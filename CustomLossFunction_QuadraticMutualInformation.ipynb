{
 "cells": [
  {
   "cell_type": "markdown",
   "metadata": {},
   "source": [
    "## Applying a custom loss -- training for Maximum Quadratic Mutual Information (QMI)\n",
    "### Hoda Akl\n",
    "EEL6814 -- Project 2 . <br>\n",
    "I-\tdesign an autoencoder network, which projects data to a subspace to obtain features that can be then used for classification. You will use again the fashion MNIST that you used for project 1. We will compare two different approaches: First the stacked auto encoder – SAE (5 hidden layers) trained with MSE as found in the literature. Then you can use an MLP or a SVM as the classifier for the bottleneck layer outputs (features) of the trained SAE. Use the CNN classifier as a comparison and explain the results. \t\n",
    "I suggest the SAE layers to be 500-200-XXX, i.e. the number of units XXX of the bottleneck layer (which selects the dimensionality of the feature space) is selected by you, and it should be as small as possible for good generalization. You should experiment with several bottleneck layer sizes, and explain your criterion for selection. <br>\n",
    "\n",
    "II-\tdiscard the decoder part of the SAE network after the bottleneck layer, i.e. keep a 2 hidden layer MLP with XXX outputs, and train it with the maximum quadratic mutual information (QMI) loss between the MLP output and the labels. The advantage of the QMI is that it does not require the same number of MLP outputs as labels, which ix`s much more flexible than MSE.  It uses distances between PDFs (functions).\n"
   ]
  },
  {
   "cell_type": "code",
   "execution_count": null,
   "metadata": {
    "id": "CuMrf3j0TiuE"
   },
   "outputs": [],
   "source": [
    "## Most general notebook \n",
    "import numpy as np \n",
    "import pandas as pd \n",
    "import matplotlib.pyplot as plt\n",
    "import gzip\n",
    "\n",
    "# Form our test and train data\n",
    "import tensorflow as tf\n",
    "from tensorflow import keras\n",
    "from keras.callbacks import EarlyStopping, ModelCheckpoint\n",
    "from tensorflow.keras import models \n",
    "from tensorflow.keras import layers \n",
    "from tensorflow.keras import initializers\n",
    "from tensorflow.keras.models import load_model\n",
    "#\n",
    "from sklearn.model_selection import train_test_split\n",
    "from sklearn.utils import shuffle\n",
    "from keras.utils.np_utils import to_categorical\n",
    "from sklearn.preprocessing import MinMaxScaler\n",
    "# \n",
    "from collections import defaultdict\n",
    "import keras.backend as K # for the loss function\n",
    "\n"
   ]
  },
  {
   "cell_type": "code",
   "execution_count": null,
   "metadata": {
    "id": "zE_PxaAHZG7F"
   },
   "outputs": [],
   "source": [
    "import pandas as pd\n",
    "import numpy as np\n",
    "import shutil\n",
    "import os\n",
    "\n",
    "import torch\n",
    "from torch import nn as nn\n",
    "\n",
    "from torch.utils.data import DataLoader, Dataset\n",
    "from torchvision import transforms, datasets\n",
    "from torchvision.utils import save_image, make_grid\n",
    "\n",
    "from sklearn.metrics import confusion_matrix, classification_report, multilabel_confusion_matrix\n",
    "from sklearn.preprocessing import OneHotEncoder\n",
    "from sklearn.model_selection import train_test_split\n",
    "from matplotlib import pyplot as plt\n",
    "import matplotlib.image as mpimg\n",
    "\n",
    "import seaborn as sns\n",
    "import time"
   ]
  },
  {
   "cell_type": "code",
   "execution_count": null,
   "metadata": {
    "colab": {
     "base_uri": "https://localhost:8080/"
    },
    "id": "6yINSsmKTk9m",
    "outputId": "002d25b9-bef6-4cb0-f8bb-010a2d58ed2d"
   },
   "outputs": [
    {
     "name": "stdout",
     "output_type": "stream",
     "text": [
      "Downloading data from https://storage.googleapis.com/tensorflow/tf-keras-datasets/train-labels-idx1-ubyte.gz\n",
      "32768/29515 [=================================] - 0s 0us/step\n",
      "Downloading data from https://storage.googleapis.com/tensorflow/tf-keras-datasets/train-images-idx3-ubyte.gz\n",
      "26427392/26421880 [==============================] - 0s 0us/step\n",
      "Downloading data from https://storage.googleapis.com/tensorflow/tf-keras-datasets/t10k-labels-idx1-ubyte.gz\n",
      "8192/5148 [===============================================] - 0s 0us/step\n",
      "Downloading data from https://storage.googleapis.com/tensorflow/tf-keras-datasets/t10k-images-idx3-ubyte.gz\n",
      "4423680/4422102 [==============================] - 0s 0us/step\n"
     ]
    }
   ],
   "source": [
    "from keras.datasets import fashion_mnist\n",
    "(train_images, train_labels), (test_images, test_labels) = fashion_mnist.load_data()\n",
    "# idx_0 = np.where(train_labels == 0)\n",
    "# idx_1 = np.where(train_labels == 1)\n",
    "# idxes = np.concatenate((idx_1[0], idx_0[0]), axis=0)\n",
    "# idxes.shape\n",
    "# train_images = train_images[idxes, :,:]\n",
    "# train_labels = train_labels[idxes]\n",
    "# reshape the data for scaling \n",
    "train_img_ln = train_images.reshape(train_images.shape[0], train_images.shape[1]* train_images.shape[2])\n",
    "test_img_ln = test_images.reshape(test_images.shape[0], test_images.shape[1]* test_images.shape[2])\n",
    "# scaling the data on the train set\n",
    "scl = MinMaxScaler()\n",
    "scl.fit(train_img_ln)\n",
    "# transform the training and  testing set \n",
    "train_img_scl_ln = scl.transform(train_img_ln)\n",
    "test_img_scl_ln = scl.transform(test_img_ln)\n",
    "# one hot encode the training and testing labels \n",
    "train_labels_onehot = to_categorical(train_labels)\n",
    "test_labels_onehot  = to_categorical(test_labels)\n",
    "# split the data into validation and training \n",
    "X_Train,X_Val,Y_Train_oneHot,Y_Val_oneHot = train_test_split(train_img_scl_ln,train_labels_onehot, test_size=0.1, random_state=42, shuffle = True)"
   ]
  },
  {
   "cell_type": "code",
   "execution_count": null,
   "metadata": {
    "id": "vB33-T06TnFn"
   },
   "outputs": [],
   "source": [
    "# def QMI_VJ(sigma = .1):\n",
    "#   sigma = sigma\n",
    "def qmi_vj_term(y_true, y_pred, sigma):\n",
    "    sigma = sigma\n",
    "    y_true = tf.cast(y_true, 'float32')\n",
    "    y_pred = tf.cast(y_pred, 'float32')\n",
    "    y_true_label = tf.argmax(y_true, axis = 1)\n",
    "    labels, d = tf.unique(y_true_label)\n",
    "    s = 0\n",
    "    s = tf.cast(s, 'float32')\n",
    "    \n",
    "    for i in labels: \n",
    "        \n",
    "        idx = tf.where(tf.equal(y_true_label, i))\n",
    "        NP  = len(idx)\n",
    "        y_pred_little_mat = tf.gather(y_pred, idx)\n",
    "        y_pred_tiled =tf.tile(y_pred_little_mat, (NP,1,1))\n",
    "        y_pred_repeat = tf.repeat(y_pred_little_mat, NP, axis = 0)\n",
    "        difference_mat = y_pred_tiled - y_pred_repeat\n",
    "        diff_sq = K.square(difference_mat)\n",
    "        dis_sq = K.sum(diff_sq, axis = 1)\n",
    "        dis_arr = K.sqrt(dis_sq)\n",
    "        NormConsNum = (1/(sigma*np.sqrt(2*np.pi)))\n",
    "        normConsTn = tf.cast(NormConsNum, 'float32')\n",
    "        sigma = tf.cast(sigma, 'float32')\n",
    "        gauss_mat =normConsTn* K.exp(-.5*(dis_arr/sigma)**2)\n",
    "        s += K.sum(gauss_mat)\n",
    "    \n",
    "    ktn = tf.constant(200**2, 'float32')\n",
    "    vj =  s/ ktn\n",
    "    return vj\n",
    "\n",
    "\n",
    "# def QMI_VJ(sigma = .1):\n",
    "#   sigma = sigma\n",
    "def qmi_vc_term_new(y_true, y_pred, sigma):\n",
    "    Nsamps = 200\n",
    "    sigma = sigma\n",
    "    y_true = tf.cast(y_true, 'float32')\n",
    "    y_pred = tf.cast(y_pred, 'float32')\n",
    "    y_true_label = tf.argmax(y_true, axis = 1)\n",
    "    labels, d = tf.unique(y_true_label)\n",
    "    sigma = tf.cast(sigma, 'float32')\n",
    "    NormConsNum = (1/(sigma*np.sqrt(2*np.pi)))\n",
    "    normConsTn = tf.cast(NormConsNum, 'float32')\n",
    "    s = 0\n",
    "    s = tf.cast(s, 'float32')\n",
    "    N = tf.constant(Nsamps)\n",
    "    for i in labels: \n",
    "        idx = tf.where(tf.equal(y_true_label, i))\n",
    "        NP  = len(idx)\n",
    "        for ii in idx:\n",
    "            # class_spec_sample = tf.gather(y_pred, tf.constant(ii, 'int64'))\n",
    "            class_spec_sample = tf.gather(y_pred, ii)\n",
    "            y_pred_repeat_one_sample = tf.repeat(class_spec_sample, N, axis = 0)\n",
    "            diff_mat = tf.cast(y_pred_repeat_one_sample, 'float32') - tf.cast(y_pred, 'float32')\n",
    "            diff_sq = K.square(diff_mat)\n",
    "            dis_sq = K.sum(diff_sq, axis = 1)\n",
    "            dis_arr = K.sqrt(dis_sq)\n",
    "            gauss_mat =normConsTn* K.exp(-.5*(dis_arr/sigma)**2)\n",
    "            s += tf.cast(NP, 'float32')* K.sum(gauss_mat)\n",
    "        \n",
    "        \n",
    "        \n",
    "        # gauss_mat =normConsTn* K.exp(-.5*(arguments_mat/sigma)**2)\n",
    "          \n",
    "    \n",
    "    Ncubed = tf.cast(N**3, 'float32')\n",
    "    vc =  s/ Ncubed\n",
    "    return vc\n",
    "\n",
    "def qmi_vm_term(y_true, y_pred, sigma, bn_dim = 2):\n",
    "    Nsamps = 200\n",
    "    sigma = sigma\n",
    "    y_true = tf.cast(y_true, 'float32')\n",
    "    y_pred = tf.cast(y_pred, 'float32')\n",
    "    y_true_label = tf.argmax(y_true, axis = 1)\n",
    "    labels, d = tf.unique(y_true_label)\n",
    "    sigma = tf.cast(sigma, 'float32')\n",
    "    NormConsNum = (1/(sigma*np.sqrt(2*np.pi)))\n",
    "    normConsTn = tf.cast(NormConsNum, 'float32')\n",
    "    s = 0\n",
    "    s = tf.cast(s, 'float32')\n",
    "    pre_f = 0 \n",
    "    pre_f = tf.cast(pre_f, 'float32')\n",
    "    N = tf.constant(Nsamps)\n",
    "    # do the loop to get the factor infront of the summation in V_m\n",
    "    for i in labels: \n",
    "        idx = tf.where(tf.equal(y_true_label, i))\n",
    "        NP  = tf.cast(len(idx), 'float32')\n",
    "        pre_f += K.square(NP)\n",
    "\n",
    "\n",
    "    for ii in range(Nsamps):\n",
    "            y_pred_one_sample = tf.gather(y_pred, ii)\n",
    "            y_pred_one_sample = tf.reshape(y_pred_one_sample, (1,bn_dim))\n",
    "            y_pred_repeat_one_sample = tf.repeat(y_pred_one_sample, N, axis = 0)\n",
    "            diff_mat = tf.cast(y_pred_repeat_one_sample, 'float32') - tf.cast(y_pred, 'float32')\n",
    "            diff_sq = K.square(diff_mat)\n",
    "            dis_sq = K.sum(diff_sq, axis = 1)\n",
    "            dis_arr = K.sqrt(dis_sq)\n",
    "            gauss_mat =normConsTn* K.exp(-.5*(dis_arr/sigma)**2)\n",
    "            s +=  K.sum(gauss_mat)          \n",
    "    \n",
    "    Npowf = tf.cast(N**4, 'float32')\n",
    "    pre_f = pre_f/Npowf \n",
    "    vm =  pre_f * s\n",
    "    return vm\n",
    "\n",
    "def QMI(sigma = .1, bn_dim = 2):\n",
    "    sigma = sigma\n",
    "    bn_dim = bn_dim\n",
    "    def qmi_val(y_true, y_pred): \n",
    "        qmi = tf.cast( qmi_vj_term(y_true, y_pred, sigma), 'float32') - tf.cast(2, 'float32')* tf.cast(qmi_vc_term_new(y_true, y_pred, sigma), 'float32') + tf.cast(qmi_vm_term(y_true, y_pred, sigma, bn_dim = bn_dim), 'float32')\n",
    "        qmi = tf.reduce_sum(qmi)\n",
    "        return qmi\n",
    "    return qmi_val"
   ]
  },
  {
   "cell_type": "code",
   "execution_count": null,
   "metadata": {
    "id": "lTE14ChgTndl"
   },
   "outputs": [],
   "source": [
    "\n",
    "def create_net(h_dim_1_en = 500, h_dim_2_en = 200, BN_dim = 2 , nout =10, img_dim_flat = 28*28, act_last = None):\n",
    "\n",
    "    model = models.Sequential()\n",
    "    model.add(layers.Dense(h_dim_1_en, activation = 'relu', input_shape = (img_dim_flat,)))\n",
    "    model.add(layers.Dense(h_dim_2_en, activation = 'relu'))\n",
    "    # model.add(layers.Dense(BN_dim, activation = 'relu'))\n",
    "    model.add(layers.Dense(BN_dim, activation = act_last))\n",
    "\n",
    "\n",
    "    return model"
   ]
  },
  {
   "cell_type": "code",
   "execution_count": null,
   "metadata": {
    "id": "fHZy1yhGTqi5"
   },
   "outputs": [],
   "source": [
    "# maximizing the QMI by using negative learning rate\n",
    "bn_dim = 5\n",
    "sigma = 1.0\n",
    "model_all_bn5 = create_net(BN_dim = bn_dim, act_last = None)\n",
    "lr =0.001\n",
    "opt = tf.keras.optimizers.Adam(learning_rate =-lr)\n",
    "model_all_bn5.compile(optimizer=opt, loss=QMI(sigma = sigma, bn_dim = bn_dim), metrics=['accuracy'])\n",
    "# )\n",
    "# print_weights = LambdaCallback(on_epoch_end=lambda batch, logs: print(model.layers[0].get_weights()))\n",
    "# callbacks = [EarlyStopping(monitor='val_loss', patience=20),\n",
    "                #  ModelCheckpoint(filepath='qmi_2_classes.h5', monitor='val_loss', save_best_only=True)]\n",
    "history_all_bn5 = model_all_bn5.fit(X_Train,Y_Train_oneHot,\n",
    "                          epochs=50,\n",
    "                          batch_size=200, verbose = 1)\n",
    "                    # ,callbacks = [print_weights])"
   ]
  },
  {
   "cell_type": "code",
   "execution_count": null,
   "metadata": {
    "id": "6p3YBr8yebVV"
   },
   "outputs": [],
   "source": [
    "# maximizing the QMI by using negative learning rate\n",
    "bn_dim = 10\n",
    "sigma = 1.0\n",
    "model_all_bn10 = create_net(BN_dim = bn_dim, act_last = None)\n",
    "lr =0.001\n",
    "opt = tf.keras.optimizers.Adam(learning_rate =-lr)\n",
    "model_all_bn10.compile(optimizer=opt, loss=QMI(sigma = sigma, bn_dim = bn_dim), metrics=['accuracy'])\n",
    "# )\n",
    "# print_weights = LambdaCallback(on_epoch_end=lambda batch, logs: print(model.layers[0].get_weights()))\n",
    "# callbacks = [EarlyStopping(monitor='val_loss', patience=20),\n",
    "                #  ModelCheckpoint(filepath='qmi_2_classes.h5', monitor='val_loss', save_best_only=True)]\n",
    "history_all_bn10 = model_all_bn10.fit(X_Train,Y_Train_oneHot,\n",
    "                          epochs=50,\n",
    "                          batch_size=200, verbose = 1)\n",
    "                    # ,callbacks = [print_weights])"
   ]
  },
  {
   "cell_type": "code",
   "execution_count": null,
   "metadata": {
    "id": "eBROeOVEebac"
   },
   "outputs": [],
   "source": [
    "# maximizing the QMI by using negative learning rate\n",
    "bn_dim = 20\n",
    "sigma = 1.0\n",
    "model_all_bn20 = create_net(BN_dim = bn_dim, act_last = None)\n",
    "lr =0.001\n",
    "opt = tf.keras.optimizers.Adam(learning_rate =-lr)\n",
    "model_all_bn20.compile(optimizer=opt, loss=QMI(sigma = sigma, bn_dim = bn_dim), metrics=['accuracy'])\n",
    "# )\n",
    "# print_weights = LambdaCallback(on_epoch_end=lambda batch, logs: print(model.layers[0].get_weights()))\n",
    "# callbacks = [EarlyStopping(monitor='val_loss', patience=20),\n",
    "                #  ModelCheckpoint(filepath='qmi_2_classes.h5', monitor='val_loss', save_best_only=True)]\n",
    "history_all_bn20 = model_all_bn20.fit(X_Train,Y_Train_oneHot,\n",
    "                          epochs=50,\n",
    "                          batch_size=200, verbose = 1)\n",
    "                    # ,callbacks = [print_weights])"
   ]
  },
  {
   "cell_type": "code",
   "execution_count": null,
   "metadata": {
    "colab": {
     "base_uri": "https://localhost:8080/",
     "height": 313
    },
    "id": "uUHFw4oyZ2eO",
    "outputId": "c2780e34-3fe8-4106-ec74-ba9ab6911106"
   },
   "outputs": [
    {
     "data": {
      "text/plain": [
       "Text(0.5, 1.0, 'QMI vs Iterations - 10 classes')"
      ]
     },
     "execution_count": 15,
     "metadata": {
      "tags": []
     },
     "output_type": "execute_result"
    },
    {
     "data": {
      "image/png": "[encoded data removed]",
      "text/plain": [
       "<Figure size 432x288 with 1 Axes>"
      ]
     },
     "metadata": {
      "needs_background": "light",
      "tags": []
     },
     "output_type": "display_data"
    }
   ],
   "source": [
    "# loss10 =  np.asarray(history_all_bn10.history['loss']) \n",
    "# loss5 =  np.asarray(history_all_bn5.history['loss']) \n",
    "loss20 =  np.asarray(history_all_bn20.history['loss']) \n",
    "# plt.plot(loss5, label = 'BN_dim = 5')\n",
    "\n",
    "plt.plot(loss10, label = 'BN_dim = 10')\n",
    "# plt.plot(loss20, label = 'BN_dim = 20')\n",
    "\n",
    "plt.legend()\n",
    "plt.xlabel('Epochs')\n",
    "plt.ylabel('QMI')\n",
    "plt.title('QMI vs Iterations - 10 classes')\n",
    "#s = 1, no activation"
   ]
  },
  {
   "cell_type": "code",
   "execution_count": null,
   "metadata": {
    "id": "q2K7JLmFTng7"
   },
   "outputs": [],
   "source": []
  },
  {
   "cell_type": "code",
   "execution_count": null,
   "metadata": {
    "id": "bOWikrPSpVQ2"
   },
   "outputs": [],
   "source": []
  }
 ],
 "metadata": {
  "colab": {
   "name": "Complete_set_ProjectI_EEL_Trainingw/QMI.ipynb",
   "provenance": []
  },
  "kernelspec": {
   "display_name": "Python 3 (ipykernel)",
   "language": "python",
   "name": "python3"
  },
  "language_info": {
   "codemirror_mode": {
    "name": "ipython",
    "version": 3
   },
   "file_extension": ".py",
   "mimetype": "text/x-python",
   "name": "python",
   "nbconvert_exporter": "python",
   "pygments_lexer": "ipython3",
   "version": "3.9.7"
  }
 },
 "nbformat": 4,
 "nbformat_minor": 4
}
