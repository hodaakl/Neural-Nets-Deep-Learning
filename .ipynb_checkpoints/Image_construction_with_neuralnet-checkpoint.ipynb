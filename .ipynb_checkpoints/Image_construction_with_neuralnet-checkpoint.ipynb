{
 "cells": [
  {
   "cell_type": "markdown",
   "metadata": {},
   "source": [
    "## Image construction using predefined weights for a neural network. \n",
    "### Hoda Akl\n",
    "HW 1 , problem 1-- EEL6814 <br>\n",
    "We are required to construct an image of the letter A using a neural network determining the weights of the network ourself. This works because a neural network seqments the space. We want to classify specific points as being inside the \"A\" and other points as not. Hence, the output would be the letter A. In this case there is no learning.<br>\n",
    "- Each unit in hidden layer one creates one line, we have 2 inclided line for each side of the A letter and we need two lines for the middle connection. \n",
    "- Each unit in the next layer adds the outputs so that it corresponds to only one region, either left side, right side, or the side in between. "
   ]
  },
  {
   "cell_type": "code",
   "execution_count": 1,
   "metadata": {},
   "outputs": [],
   "source": [
    "#importing packages\n",
    "import numpy as np \n",
    "import matplotlib.pyplot as plt "
   ]
  },
  {
   "cell_type": "code",
   "execution_count": 2,
   "metadata": {},
   "outputs": [],
   "source": [
    "#defining the activation function\n",
    "def signum(arg):\n",
    "    ans = arg>=0 \n",
    "    ans = ans.astype(np.int)\n",
    "    ans = ans*2 - 1\n",
    "    return ans \n",
    "# Defining the network\n",
    "def network(x,w1,w2,w3,nh1,nh2):\n",
    "    a1 = np.zeros(d+1); #initializing the other input \n",
    "    a1[:d] = x; #putting the input in\n",
    "    a1[-1] =1; #The bias \n",
    "    net1 = a1.dot(w1.T) #net 1\n",
    "    y1 = signum(net1)\n",
    "\n",
    "    a2 = np.zeros(nh1+1); #initializing the other input \n",
    "    a2[:nh1] = y1; #putting the input in\n",
    "    a2[-1] =1; #The bias \n",
    "    net2 = a2.dot(w2.T)\n",
    "    y2 = signum(net2)\n",
    "    a3 = np.zeros(nh2+1); #initializing the other input \n",
    "    a3[:nh2] = y2; #putting the input in\n",
    "    a3[-1] =1; #The bias \n",
    "    net3 = a3.dot(w3.T)\n",
    "    y3 = signum(net3)\n",
    "    return y3"
   ]
  },
  {
   "cell_type": "code",
   "execution_count": 3,
   "metadata": {},
   "outputs": [
    {
     "data": {
      "image/png": "[encoded data removed]",
      "text/plain": [
       "<Figure size 432x288 with 1 Axes>"
      ]
     },
     "metadata": {
      "needs_background": "light"
     },
     "output_type": "display_data"
    }
   ],
   "source": [
    "#creating the datapoints - coordinates in space\n",
    "n=1000;\n",
    "x1 = np.linspace(-1,1,n)\n",
    "x2 = np.linspace(1,-1,n)\n",
    "[X1,X2] = np.meshgrid(x1,x2)\n",
    "x1arr = X1.reshape(n**2)\n",
    "x2arr = X2.reshape(n**2)\n",
    "XInput = np.zeros((n**2,2))\n",
    "XInput[:,0] = x1arr[:]\n",
    "XInput[:,1] = x2arr[:]\n",
    "# defining the weights \n",
    "d = 2; no =1; \n",
    "w1 = np.array([[2, -1, 1],[-2,1,-.8],[2 ,1,-.8],[-2,-1,1],[0,-1,0],[0,1,.05]])\n",
    "w2 = np.array([[1 ,1 ,0 ,1,0,0 ,-2],[1 ,0 ,1 ,1 ,0,0,-2],[1,0,0,1,1,1,-3]])\n",
    "w3 = np.array([1,1,1,1])\n",
    "out = np.zeros(n**2)\n",
    "nh1 = 6; nh2=3;\n",
    "#running the forward pass\n",
    "for i in range(n**2):\n",
    "    x = XInput[i,:]\n",
    "    out[i] = network(x,w1,w2,w3,nh1,nh2)\n",
    "outresh = out.reshape(n,n)\n",
    "plt.imshow(outresh,cmap='gray')\n",
    "plt.show()"
   ]
  }
 ],
 "metadata": {
  "kernelspec": {
   "display_name": "Python 3 (ipykernel)",
   "language": "python",
   "name": "python3"
  },
  "language_info": {
   "codemirror_mode": {
    "name": "ipython",
    "version": 3
   },
   "file_extension": ".py",
   "mimetype": "text/x-python",
   "name": "python",
   "nbconvert_exporter": "python",
   "pygments_lexer": "ipython3",
   "version": "3.9.7"
  }
 },
 "nbformat": 4,
 "nbformat_minor": 4
}
