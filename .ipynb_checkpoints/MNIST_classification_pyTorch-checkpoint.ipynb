{
 "cells": [
  {
   "cell_type": "markdown",
   "metadata": {},
   "source": [
    "## MNIST Classification problem \n",
    "### HODA AKL\n",
    "HW 4 - EEL6814. <br>\n",
    "Data: <br>\n",
    "    1. ✅ Load the data. <br> \n",
    "    2. ✅make sure it is balanced<br> \n",
    "    3. ✅scale <br>\n",
    "    4. ✅Split train to train and validation. <br>\n",
    "    5. ✅shuffle<br>\n",
    "___________________________\n",
    "network: <br>\n",
    "    1. ✅Create <br>\n",
    "    2. ✅Test <br>\n",
    "    3. ✅run - <br>\n",
    "    * ✅ batches <br>\n",
    "    * ✅ run on validation set <br>\n",
    "    * ✅early stopping \n",
    "    4. ✅extract plots. <br>\n",
    "    5. ✅Confusion matrix and test accuracy<br>\n"
   ]
  },
  {
   "cell_type": "code",
   "execution_count": 1,
   "metadata": {},
   "outputs": [],
   "source": [
    "import gzip\n",
    "from tqdm import tqdm\n",
    "import numpy as np\n",
    "import matplotlib.pyplot as plt\n",
    "%matplotlib inline\n",
    "##################\n",
    "import torch\n",
    "import torch.nn as nn  # All neural network modules, nn.Linear, nn.Conv2d, BatchNorm, Loss functions\n",
    "import torch.optim as optim  # For all Optimization algorithms, SGD, Adam, etc.\n",
    "import torch.nn.functional as F  # All functions that don't have any parameters\n",
    "from torch.utils.data import (\n",
    "    DataLoader,\n",
    ")  # Gives easier dataset managment and creates mini batches\n",
    "import torchvision.datasets as datasets  # Has standard datasets we can import in a nice way\n",
    "import torchvision.transforms as transforms  # Transformations we can perform on our dataset\n",
    "##########################\n",
    "from sklearn.model_selection import train_test_split\n",
    "from sklearn.utils import shuffle\n",
    "# Simple CNN"
   ]
  },
  {
   "cell_type": "markdown",
   "metadata": {},
   "source": [
    "# Loading The data"
   ]
  },
  {
   "cell_type": "code",
   "execution_count": 2,
   "metadata": {},
   "outputs": [],
   "source": [
    "# This is the notebook where I load the data \n",
    "f_train_im = gzip.open('train-images-idx3-ubyte.gz','r')\n",
    "f_train_lab = gzip.open('train-labels-idx1-ubyte.gz','r')\n",
    "f_test_im = gzip.open('t10k-images-idx3-ubyte.gz','r')\n",
    "f_test_lab = gzip.open('t10k-labels-idx1-ubyte.gz','r')\n",
    "image_size = 28\n",
    "lab_size = 1\n",
    "n_train = 60000\n",
    "n_test = 10000\n",
    "f_train_im.read(16)\n",
    "f_train_lab.read(8)\n",
    "f_test_im.read(16)\n",
    "f_test_lab.read(8)\n",
    "buf_tr_im = f_train_im.read(image_size * image_size * n_train)\n",
    "buf_tr_lab = f_train_lab.read(lab_size * n_train)\n",
    "buf_test_im = f_test_im.read(image_size * image_size * n_test)\n",
    "buf_test_lab = f_test_lab.read(lab_size * n_train)\n",
    "train_im = np.frombuffer(buf_tr_im, dtype=np.uint8).astype(np.float32)\n",
    "train_im = train_im.reshape(n_train, image_size, image_size, 1)\n",
    "test_im = np.frombuffer(buf_test_im, dtype=np.uint8).astype(np.float32)\n",
    "test_im = test_im.reshape(n_test, image_size, image_size, 1)\n",
    "train_labels = np.frombuffer(buf_tr_lab, dtype=np.uint8).astype(np.int64)\n",
    "train_labels = train_labels.reshape(n_train,1)\n",
    "test_labels = np.frombuffer(buf_test_lab, dtype=np.uint8).astype(np.int64)\n",
    "test_labels = test_labels.reshape(n_test,1)"
   ]
  },
  {
   "cell_type": "code",
   "execution_count": 3,
   "metadata": {},
   "outputs": [
    {
     "data": {
      "text/plain": [
       "array([0, 1, 2, 3, 4, 5, 6, 7, 8, 9], dtype=int64)"
      ]
     },
     "execution_count": 3,
     "metadata": {},
     "output_type": "execute_result"
    }
   ],
   "source": [
    "np.unique(train_labels)"
   ]
  },
  {
   "cell_type": "code",
   "execution_count": 4,
   "metadata": {},
   "outputs": [
    {
     "name": "stdout",
     "output_type": "stream",
     "text": [
      "{0: 0.09871666666666666, 1: 0.11236666666666667, 2: 0.0993, 3: 0.10218333333333333, 4: 0.09736666666666667, 5: 0.09035, 6: 0.09863333333333334, 7: 0.10441666666666667, 8: 0.09751666666666667, 9: 0.09915}\n"
     ]
    }
   ],
   "source": [
    "#make sure data is balanced \n",
    "Dictionary_counts = {0:0, 1:0, 2:0, 3:0, 4:0, 5:0, 6:0, 7:0, 8:0, 9:0}\n",
    "total = 0\n",
    "for i in train_labels:\n",
    "    digit = i[0]\n",
    "    Dictionary_counts[digit] +=1\n",
    "    total +=1\n",
    "for key in range(10):\n",
    "    Dictionary_counts[key] = Dictionary_counts[key]/total\n",
    "print(Dictionary_counts)"
   ]
  },
  {
   "cell_type": "code",
   "execution_count": 5,
   "metadata": {},
   "outputs": [
    {
     "name": "stdout",
     "output_type": "stream",
     "text": [
      "(60000, 28, 28, 1)\n",
      "(10000, 28, 28, 1)\n",
      "(60000, 1)\n",
      "(10000, 1)\n"
     ]
    }
   ],
   "source": [
    "print(train_im.shape)\n",
    "print(test_im.shape)\n",
    "print(train_labels.shape)\n",
    "print(test_labels.shape)"
   ]
  },
  {
   "cell_type": "code",
   "execution_count": 6,
   "metadata": {},
   "outputs": [],
   "source": [
    "# Data Processing\n",
    "#scaling \n",
    "# reshape the data to be able to be scaled \n",
    "Train_Im_Reshaped = train_im.reshape(train_im.shape[0],28*28)\n",
    "Test_Im_Reshaped = test_im.reshape(test_im.shape[0],28*28)\n",
    "from sklearn.preprocessing import MinMaxScaler\n",
    "scl = MinMaxScaler()\n",
    "scl.fit(Train_Im_Reshaped)\n",
    "Train_Im_Scaled = scl.transform(Train_Im_Reshaped)\n",
    "Test_Im_Scaled = scl.transform(Test_Im_Reshaped)\n",
    "#reshape data back to images \n",
    "Train_Im_2d_np = Train_Im_Scaled.reshape(Train_Im_Scaled.shape[0], 28,28,1)\n",
    "Test_Im_2d_np  = Test_Im_Scaled.reshape(Test_Im_Scaled.shape[0],28,28,1)\n",
    "#change all to tensors \n",
    "X_train_all = torch.from_numpy(Train_Im_2d_np)\n",
    "X_test = torch.from_numpy(Test_Im_2d_np)\n",
    "y_Train_all = torch.from_numpy(train_labels)\n",
    "y_test = torch.from_numpy(test_labels)\n",
    "#one hot encoding the test labels labels \n",
    "y_test_one_hot = F.one_hot(y_test)\n",
    "y_train_all_one_hot = F.one_hot(y_Train_all)\n",
    "# Train validation split \n",
    "X_Train,X_Val,Y_Train_oneHot,Y_Val_oneHot = train_test_split(X_train_all,y_train_all_one_hot, test_size=0.1, random_state=42, shuffle = True)\n",
    "#Changing shape again to feed into the network \n",
    "X_Train=X_Train.view([X_Train.shape[0],1,28,28])\n",
    "X_Val=X_Val.view([X_Val.shape[0],1,28,28])"
   ]
  },
  {
   "cell_type": "code",
   "execution_count": 7,
   "metadata": {},
   "outputs": [],
   "source": [
    "# What we have is X_Train, X_Val, T_Train_oneHo, Y_Val_oneHot\n",
    "# X_test, y_test_one_Hot"
   ]
  },
  {
   "cell_type": "markdown",
   "metadata": {},
   "source": [
    "# Creating the network "
   ]
  },
  {
   "cell_type": "code",
   "execution_count": 8,
   "metadata": {},
   "outputs": [],
   "source": [
    "class CNN(nn.Module):\n",
    "    def __init__(self, in_channels=1, num_classes=10):\n",
    "        super(CNN, self).__init__()\n",
    "        self.conv1 = nn.Conv2d(\n",
    "            in_channels=1,\n",
    "            out_channels=8,\n",
    "            kernel_size=(3, 3),\n",
    "            stride=(1, 1),\n",
    "            padding=(1, 1),\n",
    "        )\n",
    "        self.pool = nn.MaxPool2d(kernel_size=(2, 2), stride=(2, 2))\n",
    "        self.conv2 = nn.Conv2d(\n",
    "            in_channels=8,\n",
    "            out_channels=16,\n",
    "            kernel_size=(3, 3),\n",
    "            stride=(1, 1),\n",
    "            padding=(1, 1),\n",
    "        )\n",
    "        self.fc1 = nn.Linear(16 * 7 * 7, num_classes)\n",
    "\n",
    "    def forward(self, x):\n",
    "        x = F.relu(self.conv1(x))\n",
    "        x = self.pool(x)\n",
    "        x = F.relu(self.conv2(x))\n",
    "        x = self.pool(x)\n",
    "        x = x.reshape(x.shape[0], -1)\n",
    "        x = self.fc1(x)\n",
    "\n",
    "        return F.softmax(x, dim =1)\n"
   ]
  },
  {
   "cell_type": "code",
   "execution_count": 9,
   "metadata": {},
   "outputs": [
    {
     "name": "stdout",
     "output_type": "stream",
     "text": [
      "CNN(\n",
      "  (conv1): Conv2d(1, 8, kernel_size=(3, 3), stride=(1, 1), padding=(1, 1))\n",
      "  (pool): MaxPool2d(kernel_size=(2, 2), stride=(2, 2), padding=0, dilation=1, ceil_mode=False)\n",
      "  (conv2): Conv2d(8, 16, kernel_size=(3, 3), stride=(1, 1), padding=(1, 1))\n",
      "  (fc1): Linear(in_features=784, out_features=10, bias=True)\n",
      ")\n",
      "torch.Size([1, 1, 28, 28])\n",
      "torch.Size([1, 10])\n"
     ]
    }
   ],
   "source": [
    "model = CNN()\n",
    "print(model)\n",
    "x = torch.randn(1,1,28,28)\n",
    "print(x.shape)\n",
    "print(model(x).shape)"
   ]
  },
  {
   "cell_type": "code",
   "execution_count": 10,
   "metadata": {},
   "outputs": [],
   "source": [
    "Model_3 = CNN()"
   ]
  },
  {
   "cell_type": "code",
   "execution_count": 11,
   "metadata": {},
   "outputs": [],
   "source": [
    "# Hyperparameters\n",
    "in_channel = 1\n",
    "num_classes = 10\n",
    "learning_rate = 0.001\n",
    "batch_size = 128\n",
    "num_epochs = 100\n",
    "loss_function = nn.CrossEntropyLoss()\n",
    "optimizer = optim.Adam(Model_3.parameters(), lr = 0.001)"
   ]
  },
  {
   "cell_type": "code",
   "execution_count": 12,
   "metadata": {},
   "outputs": [],
   "source": [
    "# initialize the loss and accuracy arrays \n",
    "Loss_Arr_Train =  -1*torch.ones(num_epochs)\n",
    "Loss_Arr_Val  =-1* torch.ones(num_epochs)\n",
    "Acc_Arr_Train = -1*torch.ones(num_epochs)\n",
    "Acc_Arr_Val = -1*torch.ones(num_epochs)    \n",
    "Val_n = Y_Val_oneHot.shape[0] #number of validation points \n",
    "Train_n = Y_Train_oneHot.shape[0] \n",
    "y_val_resh = Y_Val_oneHot.view([Val_n,num_classes])\n",
    "y_train_resh = Y_Train_oneHot.view([Train_n, num_classes])\n",
    "real_classes_val = torch.argmax(y_val_resh, dim = 1)\n",
    "real_classes_train = torch.argmax(y_train_resh, dim=1)"
   ]
  },
  {
   "cell_type": "code",
   "execution_count": 13,
   "metadata": {},
   "outputs": [],
   "source": [
    "# training th emodel for 100 epochs"
   ]
  },
  {
   "cell_type": "code",
   "execution_count": 14,
   "metadata": {},
   "outputs": [],
   "source": [
    "from pytorchtools import EarlyStopping"
   ]
  },
  {
   "cell_type": "code",
   "execution_count": 15,
   "metadata": {},
   "outputs": [
    {
     "name": "stderr",
     "output_type": "stream",
     "text": [
      "100%|████████████████████████████████████████████████████████████████████████████████| 422/422 [00:21<00:00, 19.56it/s]\n",
      "  0%|▍                                                                                 | 2/422 [00:00<00:21, 19.99it/s]"
     ]
    },
    {
     "name": "stdout",
     "output_type": "stream",
     "text": [
      "Epoch  0 finished training\n",
      "Train loss =  tensor(1.7125)  , Train Accuracy =  tensor(0.8524)\n",
      "Val loss =  tensor(1.6112)  , Val Accuracy =  tensor(0.8562)\n",
      "\n",
      "Validation loss decreased (inf --> 1.611212).  Saving model ...\n"
     ]
    },
    {
     "name": "stderr",
     "output_type": "stream",
     "text": [
      "100%|████████████████████████████████████████████████████████████████████████████████| 422/422 [00:21<00:00, 19.89it/s]\n",
      "  0%|                                                                                          | 0/422 [00:00<?, ?it/s]"
     ]
    },
    {
     "name": "stdout",
     "output_type": "stream",
     "text": [
      "Epoch  1 finished training\n",
      "Train loss =  tensor(1.6012)  , Train Accuracy =  tensor(0.8733)\n",
      "Val loss =  tensor(1.5889)  , Val Accuracy =  tensor(0.8753)\n",
      "\n",
      "Validation loss decreased (1.611212 --> 1.588918).  Saving model ...\n"
     ]
    },
    {
     "name": "stderr",
     "output_type": "stream",
     "text": [
      " 25%|████████████████████▎                                                           | 107/422 [00:05<00:15, 19.96it/s]\n"
     ]
    },
    {
     "ename": "KeyboardInterrupt",
     "evalue": "",
     "output_type": "error",
     "traceback": [
      "\u001b[1;31m---------------------------------------------------------------------------\u001b[0m",
      "\u001b[1;31mKeyboardInterrupt\u001b[0m                         Traceback (most recent call last)",
      "\u001b[1;32m<ipython-input-15-5f222dd5c96e>\u001b[0m in \u001b[0;36m<module>\u001b[1;34m\u001b[0m\n\u001b[0;32m     15\u001b[0m         \u001b[1;31m#zero the grad\u001b[0m\u001b[1;33m\u001b[0m\u001b[1;33m\u001b[0m\u001b[1;33m\u001b[0m\u001b[0m\n\u001b[0;32m     16\u001b[0m         \u001b[0mModel_3\u001b[0m\u001b[1;33m.\u001b[0m\u001b[0mzero_grad\u001b[0m\u001b[1;33m(\u001b[0m\u001b[1;33m)\u001b[0m\u001b[1;33m\u001b[0m\u001b[1;33m\u001b[0m\u001b[0m\n\u001b[1;32m---> 17\u001b[1;33m         \u001b[0moutputs\u001b[0m \u001b[1;33m=\u001b[0m \u001b[0mModel_3\u001b[0m\u001b[1;33m(\u001b[0m\u001b[0mbatch_X\u001b[0m\u001b[1;33m)\u001b[0m\u001b[1;33m\u001b[0m\u001b[1;33m\u001b[0m\u001b[0m\n\u001b[0m\u001b[0;32m     18\u001b[0m \u001b[1;31m#         outputs =\u001b[0m\u001b[1;33m\u001b[0m\u001b[1;33m\u001b[0m\u001b[1;33m\u001b[0m\u001b[0m\n\u001b[0;32m     19\u001b[0m         \u001b[0mloss_train\u001b[0m \u001b[1;33m=\u001b[0m \u001b[0mloss_function\u001b[0m\u001b[1;33m(\u001b[0m\u001b[0moutputs\u001b[0m\u001b[1;33m,\u001b[0m \u001b[0mtrain_target\u001b[0m\u001b[1;33m)\u001b[0m\u001b[1;33m\u001b[0m\u001b[1;33m\u001b[0m\u001b[0m\n",
      "\u001b[1;32m~\\anaconda3\\lib\\site-packages\\torch\\nn\\modules\\module.py\u001b[0m in \u001b[0;36m_call_impl\u001b[1;34m(self, *input, **kwargs)\u001b[0m\n\u001b[0;32m    720\u001b[0m             \u001b[0mresult\u001b[0m \u001b[1;33m=\u001b[0m \u001b[0mself\u001b[0m\u001b[1;33m.\u001b[0m\u001b[0m_slow_forward\u001b[0m\u001b[1;33m(\u001b[0m\u001b[1;33m*\u001b[0m\u001b[0minput\u001b[0m\u001b[1;33m,\u001b[0m \u001b[1;33m**\u001b[0m\u001b[0mkwargs\u001b[0m\u001b[1;33m)\u001b[0m\u001b[1;33m\u001b[0m\u001b[1;33m\u001b[0m\u001b[0m\n\u001b[0;32m    721\u001b[0m         \u001b[1;32melse\u001b[0m\u001b[1;33m:\u001b[0m\u001b[1;33m\u001b[0m\u001b[1;33m\u001b[0m\u001b[0m\n\u001b[1;32m--> 722\u001b[1;33m             \u001b[0mresult\u001b[0m \u001b[1;33m=\u001b[0m \u001b[0mself\u001b[0m\u001b[1;33m.\u001b[0m\u001b[0mforward\u001b[0m\u001b[1;33m(\u001b[0m\u001b[1;33m*\u001b[0m\u001b[0minput\u001b[0m\u001b[1;33m,\u001b[0m \u001b[1;33m**\u001b[0m\u001b[0mkwargs\u001b[0m\u001b[1;33m)\u001b[0m\u001b[1;33m\u001b[0m\u001b[1;33m\u001b[0m\u001b[0m\n\u001b[0m\u001b[0;32m    723\u001b[0m         for hook in itertools.chain(\n\u001b[0;32m    724\u001b[0m                 \u001b[0m_global_forward_hooks\u001b[0m\u001b[1;33m.\u001b[0m\u001b[0mvalues\u001b[0m\u001b[1;33m(\u001b[0m\u001b[1;33m)\u001b[0m\u001b[1;33m,\u001b[0m\u001b[1;33m\u001b[0m\u001b[1;33m\u001b[0m\u001b[0m\n",
      "\u001b[1;32m<ipython-input-8-9db6615b4d17>\u001b[0m in \u001b[0;36mforward\u001b[1;34m(self, x)\u001b[0m\n\u001b[0;32m     22\u001b[0m         \u001b[0mx\u001b[0m \u001b[1;33m=\u001b[0m \u001b[0mF\u001b[0m\u001b[1;33m.\u001b[0m\u001b[0mrelu\u001b[0m\u001b[1;33m(\u001b[0m\u001b[0mself\u001b[0m\u001b[1;33m.\u001b[0m\u001b[0mconv1\u001b[0m\u001b[1;33m(\u001b[0m\u001b[0mx\u001b[0m\u001b[1;33m)\u001b[0m\u001b[1;33m)\u001b[0m\u001b[1;33m\u001b[0m\u001b[1;33m\u001b[0m\u001b[0m\n\u001b[0;32m     23\u001b[0m         \u001b[0mx\u001b[0m \u001b[1;33m=\u001b[0m \u001b[0mself\u001b[0m\u001b[1;33m.\u001b[0m\u001b[0mpool\u001b[0m\u001b[1;33m(\u001b[0m\u001b[0mx\u001b[0m\u001b[1;33m)\u001b[0m\u001b[1;33m\u001b[0m\u001b[1;33m\u001b[0m\u001b[0m\n\u001b[1;32m---> 24\u001b[1;33m         \u001b[0mx\u001b[0m \u001b[1;33m=\u001b[0m \u001b[0mF\u001b[0m\u001b[1;33m.\u001b[0m\u001b[0mrelu\u001b[0m\u001b[1;33m(\u001b[0m\u001b[0mself\u001b[0m\u001b[1;33m.\u001b[0m\u001b[0mconv2\u001b[0m\u001b[1;33m(\u001b[0m\u001b[0mx\u001b[0m\u001b[1;33m)\u001b[0m\u001b[1;33m)\u001b[0m\u001b[1;33m\u001b[0m\u001b[1;33m\u001b[0m\u001b[0m\n\u001b[0m\u001b[0;32m     25\u001b[0m         \u001b[0mx\u001b[0m \u001b[1;33m=\u001b[0m \u001b[0mself\u001b[0m\u001b[1;33m.\u001b[0m\u001b[0mpool\u001b[0m\u001b[1;33m(\u001b[0m\u001b[0mx\u001b[0m\u001b[1;33m)\u001b[0m\u001b[1;33m\u001b[0m\u001b[1;33m\u001b[0m\u001b[0m\n\u001b[0;32m     26\u001b[0m         \u001b[0mx\u001b[0m \u001b[1;33m=\u001b[0m \u001b[0mx\u001b[0m\u001b[1;33m.\u001b[0m\u001b[0mreshape\u001b[0m\u001b[1;33m(\u001b[0m\u001b[0mx\u001b[0m\u001b[1;33m.\u001b[0m\u001b[0mshape\u001b[0m\u001b[1;33m[\u001b[0m\u001b[1;36m0\u001b[0m\u001b[1;33m]\u001b[0m\u001b[1;33m,\u001b[0m \u001b[1;33m-\u001b[0m\u001b[1;36m1\u001b[0m\u001b[1;33m)\u001b[0m\u001b[1;33m\u001b[0m\u001b[1;33m\u001b[0m\u001b[0m\n",
      "\u001b[1;32m~\\anaconda3\\lib\\site-packages\\torch\\nn\\modules\\module.py\u001b[0m in \u001b[0;36m_call_impl\u001b[1;34m(self, *input, **kwargs)\u001b[0m\n\u001b[0;32m    720\u001b[0m             \u001b[0mresult\u001b[0m \u001b[1;33m=\u001b[0m \u001b[0mself\u001b[0m\u001b[1;33m.\u001b[0m\u001b[0m_slow_forward\u001b[0m\u001b[1;33m(\u001b[0m\u001b[1;33m*\u001b[0m\u001b[0minput\u001b[0m\u001b[1;33m,\u001b[0m \u001b[1;33m**\u001b[0m\u001b[0mkwargs\u001b[0m\u001b[1;33m)\u001b[0m\u001b[1;33m\u001b[0m\u001b[1;33m\u001b[0m\u001b[0m\n\u001b[0;32m    721\u001b[0m         \u001b[1;32melse\u001b[0m\u001b[1;33m:\u001b[0m\u001b[1;33m\u001b[0m\u001b[1;33m\u001b[0m\u001b[0m\n\u001b[1;32m--> 722\u001b[1;33m             \u001b[0mresult\u001b[0m \u001b[1;33m=\u001b[0m \u001b[0mself\u001b[0m\u001b[1;33m.\u001b[0m\u001b[0mforward\u001b[0m\u001b[1;33m(\u001b[0m\u001b[1;33m*\u001b[0m\u001b[0minput\u001b[0m\u001b[1;33m,\u001b[0m \u001b[1;33m**\u001b[0m\u001b[0mkwargs\u001b[0m\u001b[1;33m)\u001b[0m\u001b[1;33m\u001b[0m\u001b[1;33m\u001b[0m\u001b[0m\n\u001b[0m\u001b[0;32m    723\u001b[0m         for hook in itertools.chain(\n\u001b[0;32m    724\u001b[0m                 \u001b[0m_global_forward_hooks\u001b[0m\u001b[1;33m.\u001b[0m\u001b[0mvalues\u001b[0m\u001b[1;33m(\u001b[0m\u001b[1;33m)\u001b[0m\u001b[1;33m,\u001b[0m\u001b[1;33m\u001b[0m\u001b[1;33m\u001b[0m\u001b[0m\n",
      "\u001b[1;32m~\\anaconda3\\lib\\site-packages\\torch\\nn\\modules\\conv.py\u001b[0m in \u001b[0;36mforward\u001b[1;34m(self, input)\u001b[0m\n\u001b[0;32m    417\u001b[0m \u001b[1;33m\u001b[0m\u001b[0m\n\u001b[0;32m    418\u001b[0m     \u001b[1;32mdef\u001b[0m \u001b[0mforward\u001b[0m\u001b[1;33m(\u001b[0m\u001b[0mself\u001b[0m\u001b[1;33m,\u001b[0m \u001b[0minput\u001b[0m\u001b[1;33m:\u001b[0m \u001b[0mTensor\u001b[0m\u001b[1;33m)\u001b[0m \u001b[1;33m->\u001b[0m \u001b[0mTensor\u001b[0m\u001b[1;33m:\u001b[0m\u001b[1;33m\u001b[0m\u001b[1;33m\u001b[0m\u001b[0m\n\u001b[1;32m--> 419\u001b[1;33m         \u001b[1;32mreturn\u001b[0m \u001b[0mself\u001b[0m\u001b[1;33m.\u001b[0m\u001b[0m_conv_forward\u001b[0m\u001b[1;33m(\u001b[0m\u001b[0minput\u001b[0m\u001b[1;33m,\u001b[0m \u001b[0mself\u001b[0m\u001b[1;33m.\u001b[0m\u001b[0mweight\u001b[0m\u001b[1;33m)\u001b[0m\u001b[1;33m\u001b[0m\u001b[1;33m\u001b[0m\u001b[0m\n\u001b[0m\u001b[0;32m    420\u001b[0m \u001b[1;33m\u001b[0m\u001b[0m\n\u001b[0;32m    421\u001b[0m \u001b[1;32mclass\u001b[0m \u001b[0mConv3d\u001b[0m\u001b[1;33m(\u001b[0m\u001b[0m_ConvNd\u001b[0m\u001b[1;33m)\u001b[0m\u001b[1;33m:\u001b[0m\u001b[1;33m\u001b[0m\u001b[1;33m\u001b[0m\u001b[0m\n",
      "\u001b[1;32m~\\anaconda3\\lib\\site-packages\\torch\\nn\\modules\\conv.py\u001b[0m in \u001b[0;36m_conv_forward\u001b[1;34m(self, input, weight)\u001b[0m\n\u001b[0;32m    414\u001b[0m                             _pair(0), self.dilation, self.groups)\n\u001b[0;32m    415\u001b[0m         return F.conv2d(input, weight, self.bias, self.stride,\n\u001b[1;32m--> 416\u001b[1;33m                         self.padding, self.dilation, self.groups)\n\u001b[0m\u001b[0;32m    417\u001b[0m \u001b[1;33m\u001b[0m\u001b[0m\n\u001b[0;32m    418\u001b[0m     \u001b[1;32mdef\u001b[0m \u001b[0mforward\u001b[0m\u001b[1;33m(\u001b[0m\u001b[0mself\u001b[0m\u001b[1;33m,\u001b[0m \u001b[0minput\u001b[0m\u001b[1;33m:\u001b[0m \u001b[0mTensor\u001b[0m\u001b[1;33m)\u001b[0m \u001b[1;33m->\u001b[0m \u001b[0mTensor\u001b[0m\u001b[1;33m:\u001b[0m\u001b[1;33m\u001b[0m\u001b[1;33m\u001b[0m\u001b[0m\n",
      "\u001b[1;31mKeyboardInterrupt\u001b[0m: "
     ]
    }
   ],
   "source": [
    "# \n",
    "early_stopping = EarlyStopping(patience=20, verbose=True)\n",
    "for epoch in range(num_epochs):\n",
    "#     epoch_loss = 0\n",
    "    compiled_loss = 0\n",
    "    # get the batch in X and Y \n",
    "    s = 0 \n",
    "    for i in tqdm(range(0, len(X_Train), batch_size)):\n",
    "        s = s+1 \n",
    "        batch_X = X_Train[i:i+batch_size,:,:,:]\n",
    "#         print('length of batch x = ', len(batch_X))\n",
    "        batch_Y = Y_Train_oneHot[i:i+batch_size]\n",
    "        batch_Y = batch_Y.view(batch_Y.shape[0],num_classes)\n",
    "        train_target = torch.argmax(batch_Y, dim =1)\n",
    "        #zero the grad\n",
    "        Model_3.zero_grad()\n",
    "        outputs = Model_3(batch_X) \n",
    "#         outputs = \n",
    "        loss_train = loss_function(outputs, train_target)\n",
    "        compiled_loss += loss_train\n",
    "        #backward propagation\n",
    "        loss_train.backward()\n",
    "        # update weights \n",
    "        optimizer.step()\n",
    "        # record the loss \n",
    "#         train_losses.append(loss.item())\n",
    "#     print(f\"Epoch: {epoch}. Loss:{loss}\")\n",
    "#     Model_3.eval()\n",
    "    outputs_onehot_val = Model_3(X_Val)\n",
    "    outputs_onehot_train = Model_3(X_Train)\n",
    "    predicted_classes_val = torch.argmax(outputs_onehot_val, dim = 1)\n",
    "    predicted_classes_train = torch.argmax(outputs_onehot_train, dim = 1)\n",
    "    accurate_num_val = len(torch.where(real_classes_val == predicted_classes_val)[0])\n",
    "    accurate_num_train = len(torch.where(real_classes_train == predicted_classes_train)[0])\n",
    "    Acc_Arr_Val[epoch] = accurate_num_val/Val_n\n",
    "    Acc_Arr_Train[epoch] = accurate_num_train/Train_n\n",
    "    with torch.no_grad():\n",
    "        Loss_Arr_Val[epoch] =loss_function(outputs_onehot_val, real_classes_val)\n",
    "        Loss_Arr_Train[epoch] = compiled_loss/s\n",
    "    \n",
    "    print('Epoch ', epoch, 'finished training')\n",
    "    print('Train loss = ' ,Loss_Arr_Train[epoch], ' , Train Accuracy = ',   Acc_Arr_Train[epoch])\n",
    "    print('Val loss = ' ,Loss_Arr_Val[epoch], ' , Val Accuracy = ',   Acc_Arr_Val[epoch])\n",
    "    print()\n",
    "#             early_stopping needs the validation loss to check if it has decresed, \n",
    "#         and if it has, it will make a checkpoint of the current model\n",
    "    early_stopping(Loss_Arr_Val[epoch], Model_3)\n",
    "\n",
    "    if early_stopping.early_stop:\n",
    "        print(\"Early stopping\")\n",
    "        break\n",
    "\n",
    "# load the last checkpoint with the best model\n",
    "Model_3.load_state_dict(torch.load('checkpoint.pt'))"
   ]
  },
  {
   "cell_type": "code",
   "execution_count": null,
   "metadata": {},
   "outputs": [],
   "source": [
    "# Now choose the arrays that are posibitive\n",
    "# Loss_Arr_Train =  -1*torch.ones(num_epochs)\n",
    "# Loss_Arr_Val  =-1* torch.ones(num_epochs)\n",
    "# Acc_Arr_Train = -1*torch.ones(num_epochs)\n",
    "# Acc_Arr_Val = -1*torch.ones(num_epochs)    \n",
    "Loss_Arr_Train_idx = torch.where(Loss_Arr_Train>0)\n",
    "LossArrTrain = Loss_Arr_Train[Loss_Arr_Train_idx[0]]\n",
    "#\n",
    "Loss_Arr_Val_idx = torch.where(Loss_Arr_Val>0)\n",
    "LossArrVal = Loss_Arr_Val[Loss_Arr_Val_idx[0]]\n",
    "#\n",
    "Acc_Arr_Train_idx = torch.where(Acc_Arr_Train>0)\n",
    "AccArrTrain = Acc_Arr_Train[Acc_Arr_Train_idx[0]]\n",
    "#\n",
    "Acc_Arr_Val_idx = torch.where(Acc_Arr_Val>0)\n",
    "AccArrVal = Acc_Arr_Val[Acc_Arr_Val_idx[0]]"
   ]
  },
  {
   "cell_type": "code",
   "execution_count": 80,
   "metadata": {},
   "outputs": [
    {
     "data": {
      "image/png": "[encoded data removed]",
      "text/plain": [
       "<Figure size 576x432 with 2 Axes>"
      ]
     },
     "metadata": {
      "needs_background": "light"
     },
     "output_type": "display_data"
    }
   ],
   "source": [
    "fig, axs = plt.subplots(1, 2,figsize=(8,6), constrained_layout = True)\n",
    "# fig.tight_layout()\n",
    "# axs[0, 0].plot(x, y)\n",
    "axs[0].set_title('Loss (Cross Entropy)')\n",
    "axs[1].set_title('Accuracy')\n",
    "# axs[0, 2].set_title('Confusion Matrix')\n",
    "a1 = axs[0].plot(LossArrTrain)\n",
    "a2 = axs[0].plot(LossArrVal)\n",
    "b1 = axs[1].plot(AccArrTrain, label ='Train')\n",
    "b2 = axs[1].plot(AccArrVal, label ='Validation')\n",
    "axs[0].set(xlabel='epochs', ylabel = 'Loss')\n",
    "axs[1].set(xlabel='epochs', ylabel = 'Accuracy')\n",
    "# axs[0].legend((a1, a2), ('oscillatory', 'damped'), loc='upper right', shadow=True)\n",
    "fig.suptitle('Training curves', fontsize=16)\n",
    "fig.legend(bbox_to_anchor=(.9, 1), loc='upper left')\n",
    "plt.show()\n",
    "# axs[-1, -1].axis('off')\n"
   ]
  },
  {
   "cell_type": "code",
   "execution_count": 99,
   "metadata": {},
   "outputs": [],
   "source": [
    "# testing \n",
    "X_test = X_test.view(X_test.shape[0],1,28,28)\n",
    "y_test = torch.flatten(y_test)\n",
    "Y_predictions = Model_3(X_test)\n",
    "labels_pred = torch.argmax(Y_predictions, dim = 1)\n",
    "labels_pred = torch.flatten(labels_pred)\n",
    "acc = len(torch.where(y_test == labels_pred)[0])\n",
    "acc_perc = acc/ len(y_test)"
   ]
  },
  {
   "cell_type": "code",
   "execution_count": 101,
   "metadata": {},
   "outputs": [
    {
     "data": {
      "text/plain": [
       "0.9856"
      ]
     },
     "execution_count": 101,
     "metadata": {},
     "output_type": "execute_result"
    }
   ],
   "source": [
    "acc_perc"
   ]
  },
  {
   "cell_type": "code",
   "execution_count": null,
   "metadata": {},
   "outputs": [],
   "source": [
    "# get the confusion matrix\n",
    "from sklearn.metrics import confusion_matrix\n",
    "confusion_matrix(y_test, labels_pred)"
   ]
  },
  {
   "cell_type": "code",
   "execution_count": 112,
   "metadata": {},
   "outputs": [
    {
     "data": {
      "image/png": "[encoded data removed]",
      "text/plain": [
       "<Figure size 720x576 with 2 Axes>"
      ]
     },
     "metadata": {
      "needs_background": "light"
     },
     "output_type": "display_data"
    }
   ],
   "source": [
    "import pandas as pd\n",
    "from sklearn.metrics import confusion_matrix\n",
    "ConfMat = confusion_matrix(y_test, labels_pred)\n",
    "import seaborn as sns\n",
    "confMat = np.transpose(ConfMat)\n",
    "df_cm = pd.DataFrame(ConfMat)\n",
    "plt.figure(figsize = (10,8))\n",
    "# plt.imshow(ConfMat, cmap = 'hot')\n",
    "plt.xlabel('Preidcted')\n",
    "plt.ylabel('true')\n",
    "ax = sns.heatmap(df_cm, annot=True)\n",
    "ax.set(title = 'Confusion Matrix Test Set - Test Accuracy = ' + str(acc_perc), xlabel = 'True', ylabel = 'Predicted')\n",
    "plt.show()"
   ]
  },
  {
   "cell_type": "code",
   "execution_count": null,
   "metadata": {},
   "outputs": [],
   "source": []
  }
 ],
 "metadata": {
  "kernelspec": {
   "display_name": "Python 3 (ipykernel)",
   "language": "python",
   "name": "python3"
  },
  "language_info": {
   "codemirror_mode": {
    "name": "ipython",
    "version": 3
   },
   "file_extension": ".py",
   "mimetype": "text/x-python",
   "name": "python",
   "nbconvert_exporter": "python",
   "pygments_lexer": "ipython3",
   "version": "3.9.7"
  }
 },
 "nbformat": 4,
 "nbformat_minor": 4
}
